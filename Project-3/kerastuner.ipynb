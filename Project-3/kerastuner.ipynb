{
 "cells": [
  {
   "cell_type": "code",
   "execution_count": 3,
   "metadata": {},
   "outputs": [
    {
     "ename": "ModuleNotFoundError",
     "evalue": "No module named 'keras_tuner'",
     "output_type": "error",
     "traceback": [
      "\u001b[0;31m---------------------------------------------------------------------------\u001b[0m",
      "\u001b[0;31mModuleNotFoundError\u001b[0m                       Traceback (most recent call last)",
      "Cell \u001b[0;32mIn[3], line 1\u001b[0m\n\u001b[0;32m----> 1\u001b[0m \u001b[38;5;28;01mfrom\u001b[39;00m \u001b[38;5;21;01mkeras_tuner\u001b[39;00m \u001b[38;5;28;01mimport\u001b[39;00m HyperModel, RandomSearch\n\u001b[1;32m      2\u001b[0m \u001b[38;5;28;01mfrom\u001b[39;00m \u001b[38;5;21;01mtensorflow\u001b[39;00m\u001b[38;5;21;01m.\u001b[39;00m\u001b[38;5;21;01mkeras\u001b[39;00m\u001b[38;5;21;01m.\u001b[39;00m\u001b[38;5;21;01mlayers\u001b[39;00m \u001b[38;5;28;01mimport\u001b[39;00m Dense, Flatten, Conv2D, MaxPooling2D, Conv2DTranspose, UpSampling2D, Reshape\n\u001b[1;32m      3\u001b[0m \u001b[38;5;28;01mfrom\u001b[39;00m \u001b[38;5;21;01mtensorflow\u001b[39;00m\u001b[38;5;21;01m.\u001b[39;00m\u001b[38;5;21;01mkeras\u001b[39;00m\u001b[38;5;21;01m.\u001b[39;00m\u001b[38;5;21;01mmodels\u001b[39;00m \u001b[38;5;28;01mimport\u001b[39;00m Sequential\n",
      "\u001b[0;31mModuleNotFoundError\u001b[0m: No module named 'keras_tuner'"
     ]
    }
   ],
   "source": [
    "from keras_tuner import HyperModel, RandomSearch\n",
    "from tensorflow.keras.layers import Dense, Flatten, Conv2D, MaxPooling2D, Conv2DTranspose, UpSampling2D, Reshape\n",
    "from tensorflow.keras.models import Sequential\n",
    "from tensorflow.keras.optimizers import RMSprop\n",
    "from tensorflow.keras.datasets import mnist\n",
    "from sklearn.model_selection import train_test_split\n",
    "from matplotlib import pyplot as plt"
   ]
  },
  {
   "cell_type": "code",
   "execution_count": 3,
   "metadata": {},
   "outputs": [],
   "source": [
    "# load mnist dataset\n",
    "(x_train, _), (x_test, _) = mnist.load_data()\n",
    "# normalize data\n",
    "x_train, x_test = x_train / 255.0, x_test / 255.0\n",
    "\n",
    "# split the training set into training and validation sets\n",
    "x_train, x_valid, train_ground, valid_ground = train_test_split(x_train, x_train, test_size=0.2, random_state=13)\n",
    "# x_train: used for actual training.\n",
    "# x_valid: used for validation after each epoch.\n",
    "# train_ground, valid_ground: They represent what the output of the autoencoder should ideally look like.\n",
    "#                             Since an autoencoder tries to reconstruct its input, both train_ground and valid_ground\n",
    "#                             are the same as x_train and x_valid."
   ]
  },
  {
   "cell_type": "code",
   "execution_count": 4,
   "metadata": {},
   "outputs": [
    {
     "name": "stdout",
     "output_type": "stream",
     "text": [
      "Reloading Tuner from my_dir/tuner_mnist/tuner0.json\n"
     ]
    }
   ],
   "source": [
    "class AutoencoderHyperModel(HyperModel):\n",
    "\n",
    "    def build(self, hp):\n",
    "        model = Sequential()\n",
    "        # Encoder\n",
    "        model.add(Conv2D(hp.Int('input_units', min_value=32, max_value=256, step=32 ) ,\n",
    "                         (3,2) ,\n",
    "                         activation='relu', padding='same', input_shape=(28, 28, 1)))\n",
    "        model.add(MaxPooling2D((2, 2), padding='same'))\n",
    "        model.add(Conv2D(hp.Int('input_units', min_value=32, max_value=256, step=32 ) ,\n",
    "                         (3,3) ,\n",
    "                         activation='relu', padding='same'))\n",
    "        model.add(MaxPooling2D((2, 2), padding='same'))\n",
    "        model.add(Conv2D(hp.Int('input_units', min_value=32, max_value=256, step=32 ) ,\n",
    "                         (3,3), \n",
    "                         activation='relu', padding='same'))\n",
    "        model.add(Flatten())\n",
    "        model.add(Dense(hp.Choice('latent_space_neurons', values=[10,20,30]), activation='relu'))\n",
    "        # Decoder\n",
    "        model.add(Dense(49, activation='relu')) \n",
    "        model.add(Reshape((7, 7, 1)))\n",
    "        model.add(Conv2DTranspose(hp.Int('input_units', min_value=32, max_value=256, step=32 ),\n",
    "                                  (3,3 ),\n",
    "                                  activation='relu', padding='same'))\n",
    "        model.add(UpSampling2D((2, 2)))\n",
    "        model.add(Conv2DTranspose(hp.Int('input_units', min_value=32, max_value=256, step=32 ),\n",
    "                                  (3, 3), \n",
    "                                  activation='relu', padding='same'))\n",
    "        model.add(UpSampling2D((2, 2)))\n",
    "        model.add(Conv2DTranspose(1,(3,3), activation='sigmoid', padding='same'))\n",
    "\n",
    "        model.compile(optimizer=RMSprop(hp.Choice('learning_rate', values=[1e-2, 1e-3, 1e-4])),\n",
    "                      loss='mean_squared_error')\n",
    "\n",
    "        return model\n",
    "\n",
    "hypermodel = AutoencoderHyperModel()\n",
    "tuner = RandomSearch(\n",
    "    hypermodel,\n",
    "    objective='val_loss',\n",
    "    max_trials=10,\n",
    "    executions_per_trial=2,\n",
    "    directory='my_dir',\n",
    "    project_name='tuner_mnist'\n",
    ")"
   ]
  },
  {
   "cell_type": "code",
   "execution_count": null,
   "metadata": {},
   "outputs": [],
   "source": [
    "tuner.search(x_train, train_ground, epochs=10, validation_data=(x_valid, valid_ground))"
   ]
  },
  {
   "cell_type": "code",
   "execution_count": 5,
   "metadata": {},
   "outputs": [
    {
     "name": "stdout",
     "output_type": "stream",
     "text": [
      "Results summary\n",
      "Results in my_dir/tuner_mnist\n",
      "Showing 10 best trials\n",
      "Objective(name=\"val_loss\", direction=\"min\")\n",
      "\n",
      "Trial 00 summary\n",
      "Hyperparameters:\n",
      "input_units: 224\n",
      "latent_space_neurons: 30\n",
      "learning_rate: 0.001\n",
      "Score: 0.006683835526928306\n",
      "\n",
      "Trial 06 summary\n",
      "Hyperparameters:\n",
      "input_units: 256\n",
      "latent_space_neurons: 30\n",
      "learning_rate: 0.001\n",
      "Score: 0.0072817676700651646\n",
      "\n",
      "Trial 01 summary\n",
      "Hyperparameters:\n",
      "input_units: 64\n",
      "latent_space_neurons: 30\n",
      "learning_rate: 0.001\n",
      "Score: 0.008625002577900887\n",
      "\n",
      "Trial 03 summary\n",
      "Hyperparameters:\n",
      "input_units: 96\n",
      "latent_space_neurons: 20\n",
      "learning_rate: 0.001\n",
      "Score: 0.009397622663527727\n",
      "\n",
      "Trial 04 summary\n",
      "Hyperparameters:\n",
      "input_units: 64\n",
      "latent_space_neurons: 30\n",
      "learning_rate: 0.01\n",
      "Score: 0.011539270635694265\n",
      "\n",
      "Trial 05 summary\n",
      "Hyperparameters:\n",
      "input_units: 192\n",
      "latent_space_neurons: 30\n",
      "learning_rate: 0.0001\n",
      "Score: 0.01385280629619956\n",
      "\n",
      "Trial 02 summary\n",
      "Hyperparameters:\n",
      "input_units: 96\n",
      "latent_space_neurons: 10\n",
      "learning_rate: 0.0001\n",
      "Score: 0.02842608280479908\n",
      "\n",
      "Trial 08 summary\n",
      "Hyperparameters:\n",
      "input_units: 160\n",
      "latent_space_neurons: 10\n",
      "learning_rate: 0.01\n",
      "Score: 0.11232367902994156\n",
      "\n",
      "Trial 07 summary\n",
      "Hyperparameters:\n",
      "input_units: 224\n",
      "latent_space_neurons: 10\n",
      "learning_rate: 0.01\n",
      "Score: 0.11232367902994156\n",
      "\n",
      "Trial 09 summary\n",
      "Hyperparameters:\n",
      "input_units: 32\n",
      "latent_space_neurons: 20\n",
      "learning_rate: 0.001\n"
     ]
    }
   ],
   "source": [
    "tuner.results_summary()\n"
   ]
  },
  {
   "cell_type": "code",
   "execution_count": 6,
   "metadata": {},
   "outputs": [
    {
     "name": "stdout",
     "output_type": "stream",
     "text": [
      "Model: \"sequential\"\n",
      "_________________________________________________________________\n",
      " Layer (type)                Output Shape              Param #   \n",
      "=================================================================\n",
      " conv2d (Conv2D)             (None, 28, 28, 224)       1568      \n",
      "                                                                 \n",
      " max_pooling2d (MaxPooling2D  (None, 14, 14, 224)      0         \n",
      " )                                                               \n",
      "                                                                 \n",
      " conv2d_1 (Conv2D)           (None, 14, 14, 224)       451808    \n",
      "                                                                 \n",
      " max_pooling2d_1 (MaxPooling  (None, 7, 7, 224)        0         \n",
      " 2D)                                                             \n",
      "                                                                 \n",
      " conv2d_2 (Conv2D)           (None, 7, 7, 224)         451808    \n",
      "                                                                 \n",
      " flatten (Flatten)           (None, 10976)             0         \n",
      "                                                                 \n",
      " dense (Dense)               (None, 30)                329310    \n",
      "                                                                 \n",
      " dense_1 (Dense)             (None, 49)                1519      \n",
      "                                                                 \n",
      " reshape (Reshape)           (None, 7, 7, 1)           0         \n",
      "                                                                 \n",
      " conv2d_transpose (Conv2DTra  (None, 7, 7, 224)        2240      \n",
      " nspose)                                                         \n",
      "                                                                 \n",
      " up_sampling2d (UpSampling2D  (None, 14, 14, 224)      0         \n",
      " )                                                               \n",
      "                                                                 \n",
      " conv2d_transpose_1 (Conv2DT  (None, 14, 14, 224)      451808    \n",
      " ranspose)                                                       \n",
      "                                                                 \n",
      " up_sampling2d_1 (UpSampling  (None, 28, 28, 224)      0         \n",
      " 2D)                                                             \n",
      "                                                                 \n",
      " conv2d_transpose_2 (Conv2DT  (None, 28, 28, 1)        2017      \n",
      " ranspose)                                                       \n",
      "                                                                 \n",
      "=================================================================\n",
      "Total params: 1,692,078\n",
      "Trainable params: 1,692,078\n",
      "Non-trainable params: 0\n",
      "_________________________________________________________________\n"
     ]
    },
    {
     "name": "stderr",
     "output_type": "stream",
     "text": [
      "2024-01-10 18:37:37.640739: I tensorflow/core/common_runtime/process_util.cc:146] Creating new thread pool with default inter op setting: 2. Tune using inter_op_parallelism_threads for best performance.\n"
     ]
    }
   ],
   "source": [
    "# get the best model and print its summary\n",
    "best_model = tuner.get_best_models(num_models=1)[0]\n",
    "best_model.summary()"
   ]
  },
  {
   "cell_type": "code",
   "execution_count": 7,
   "metadata": {},
   "outputs": [
    {
     "name": "stdout",
     "output_type": "stream",
     "text": [
      "{'input_units': 224, 'latent_space_neurons': 30, 'learning_rate': 0.001}\n"
     ]
    }
   ],
   "source": [
    "best_hyperparameters = tuner.get_best_hyperparameters(num_trials=1)[0]\n",
    "print(best_hyperparameters.values)"
   ]
  },
  {
   "cell_type": "code",
   "execution_count": 8,
   "metadata": {},
   "outputs": [],
   "source": [
    "# save the model \n",
    "best_model.save('best_model.h5')\n"
   ]
  },
  {
   "cell_type": "code",
   "execution_count": 9,
   "metadata": {},
   "outputs": [
    {
     "name": "stdout",
     "output_type": "stream",
     "text": [
      "313/313 [==============================] - 20s 62ms/step - loss: 0.0065\n"
     ]
    },
    {
     "data": {
      "text/plain": [
       "0.0064978948794305325"
      ]
     },
     "execution_count": 9,
     "metadata": {},
     "output_type": "execute_result"
    }
   ],
   "source": [
    "best_model.evaluate(x_test, x_test)"
   ]
  },
  {
   "cell_type": "code",
   "execution_count": 20,
   "metadata": {},
   "outputs": [
    {
     "name": "stdout",
     "output_type": "stream",
     "text": [
      "1/1 [==============================] - 0s 32ms/step\n"
     ]
    },
    {
     "data": {
      "image/png": "[encoded data removed]",
      "text/plain": [
       "<Figure size 2000x400 with 20 Axes>"
      ]
     },
     "metadata": {},
     "output_type": "display_data"
    }
   ],
   "source": [
    "# load the model\n",
    "# best_model = load_model('best_model.h5') # uncomment this line if you want to load the model without running the tuner\n",
    "\n",
    "# display some images and their reconstructions\n",
    "\n",
    "start = 455             # put any index from the query set\n",
    "end = start + 10        # by default, display 10 images\n",
    "\n",
    "decoded_images = best_model.predict(x_test[start:end])\n",
    "\n",
    "plt.figure(figsize=(20, 4))\n",
    "for i in range(end-start):\n",
    "    # Display original\n",
    "    ax = plt.subplot(2, end-start, i + 1)\n",
    "    plt.imshow(x_test[i+start].reshape(28, 28))\n",
    "    plt.gray()\n",
    "    ax.get_xaxis().set_visible(False)\n",
    "    ax.get_yaxis().set_visible(False)\n",
    "\n",
    "    # Display reconstruction\n",
    "    ax = plt.subplot(2, end-start, i + 1 + end-start)\n",
    "    plt.imshow(decoded_images[i].reshape(28, 28))\n",
    "    plt.gray()\n",
    "    ax.get_xaxis().set_visible(False)\n",
    "    ax.get_yaxis().set_visible(False)\n",
    "plt.show()"
   ]
  }
 ],
 "metadata": {
  "kernelspec": {
   "display_name": "zenv",
   "language": "python",
   "name": "python3"
  },
  "language_info": {
   "codemirror_mode": {
    "name": "ipython",
    "version": 3
   },
   "file_extension": ".py",
   "mimetype": "text/x-python",
   "name": "python",
   "nbconvert_exporter": "python",
   "pygments_lexer": "ipython3",
   "version": "3.10.13"
  }
 },
 "nbformat": 4,
 "nbformat_minor": 2
}
